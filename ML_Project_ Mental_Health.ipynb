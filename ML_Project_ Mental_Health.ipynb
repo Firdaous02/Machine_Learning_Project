{
 "cells": [
  {
   "cell_type": "code",
   "execution_count": 9,
   "id": "d062dcb4-bf52-4e41-966e-df9e13b67a09",
   "metadata": {},
   "outputs": [
    {
     "name": "stdout",
     "output_type": "stream",
     "text": [
      "Collecting wget\n",
      "  Downloading wget-3.2.zip (10 kB)\n",
      "  Installing build dependencies: started\n",
      "  Installing build dependencies: finished with status 'done'\n",
      "  Getting requirements to build wheel: started\n",
      "  Getting requirements to build wheel: finished with status 'done'\n",
      "  Installing backend dependencies: started\n",
      "  Installing backend dependencies: finished with status 'done'\n",
      "  Preparing metadata (pyproject.toml): started\n",
      "  Preparing metadata (pyproject.toml): finished with status 'done'\n",
      "Building wheels for collected packages: wget\n",
      "  Building wheel for wget (pyproject.toml): started\n",
      "  Building wheel for wget (pyproject.toml): finished with status 'done'\n",
      "  Created wheel for wget: filename=wget-3.2-py3-none-any.whl size=9680 sha256=ea88a995b663ab7fa21956d2129be828512ee677705a1f44441ddca312caa822\n",
      "  Stored in directory: c:\\users\\tetouan\\appdata\\local\\pip\\cache\\wheels\\bd\\a8\\c3\\3cf2c14a1837a4e04bd98631724e81f33f462d86a1d895fae0\n",
      "Successfully built wget\n",
      "Installing collected packages: wget\n",
      "Successfully installed wget-3.2\n"
     ]
    }
   ],
   "source": [
    "!pip install wget"
   ]
  },
  {
   "cell_type": "code",
   "execution_count": 10,
   "id": "1dbd9e2f-8894-41c1-9fa7-8e1e4fbf4e67",
   "metadata": {},
   "outputs": [],
   "source": [
    "import wget\n",
    "\n",
    "file_name = \"Mental Health Dataset.csv\"\n",
    "url = \"https://zenodo.org/records/11203863/files/\""
   ]
  },
  {
   "cell_type": "code",
   "execution_count": 11,
   "id": "833018f3-2f89-4770-b31b-f9a557e5f831",
   "metadata": {},
   "outputs": [
    {
     "name": "stdout",
     "output_type": "stream",
     "text": [
      "100% [........................................................................] 31098777 / 31098777"
     ]
    },
    {
     "data": {
      "text/plain": [
       "'./Mental Health Dataset.csv'"
      ]
     },
     "execution_count": 11,
     "metadata": {},
     "output_type": "execute_result"
    }
   ],
   "source": [
    "wget.download(url + file_name, \"./\" + file_name)"
   ]
  },
  {
   "cell_type": "code",
   "execution_count": 15,
   "id": "8fc31185-c2e7-49f8-a1d2-ff524291e608",
   "metadata": {},
   "outputs": [
    {
     "name": "stdout",
     "output_type": "stream",
     "text": [
      "Collecting watermark\n",
      "  Downloading watermark-2.4.3-py2.py3-none-any.whl.metadata (1.4 kB)\n",
      "Requirement already satisfied: ipython>=6.0 in c:\\users\\tetouan\\appdata\\local\\programs\\python\\python38\\lib\\site-packages (from watermark) (8.12.3)\n",
      "Requirement already satisfied: importlib-metadata>=1.4 in c:\\users\\tetouan\\appdata\\local\\programs\\python\\python38\\lib\\site-packages (from watermark) (7.0.2)\n",
      "Requirement already satisfied: setuptools in c:\\users\\tetouan\\appdata\\local\\programs\\python\\python38\\lib\\site-packages (from watermark) (41.2.0)\n",
      "Requirement already satisfied: zipp>=0.5 in c:\\users\\tetouan\\appdata\\local\\programs\\python\\python38\\lib\\site-packages (from importlib-metadata>=1.4->watermark) (3.18.0)\n",
      "Requirement already satisfied: backcall in c:\\users\\tetouan\\appdata\\local\\programs\\python\\python38\\lib\\site-packages (from ipython>=6.0->watermark) (0.2.0)\n",
      "Requirement already satisfied: decorator in c:\\users\\tetouan\\appdata\\local\\programs\\python\\python38\\lib\\site-packages (from ipython>=6.0->watermark) (5.1.1)\n",
      "Requirement already satisfied: jedi>=0.16 in c:\\users\\tetouan\\appdata\\local\\programs\\python\\python38\\lib\\site-packages (from ipython>=6.0->watermark) (0.19.1)\n",
      "Requirement already satisfied: matplotlib-inline in c:\\users\\tetouan\\appdata\\local\\programs\\python\\python38\\lib\\site-packages (from ipython>=6.0->watermark) (0.1.6)\n",
      "Requirement already satisfied: pickleshare in c:\\users\\tetouan\\appdata\\local\\programs\\python\\python38\\lib\\site-packages (from ipython>=6.0->watermark) (0.7.5)\n",
      "Requirement already satisfied: prompt-toolkit!=3.0.37,<3.1.0,>=3.0.30 in c:\\users\\tetouan\\appdata\\local\\programs\\python\\python38\\lib\\site-packages (from ipython>=6.0->watermark) (3.0.43)\n",
      "Requirement already satisfied: pygments>=2.4.0 in c:\\users\\tetouan\\appdata\\local\\programs\\python\\python38\\lib\\site-packages (from ipython>=6.0->watermark) (2.17.2)\n",
      "Requirement already satisfied: stack-data in c:\\users\\tetouan\\appdata\\local\\programs\\python\\python38\\lib\\site-packages (from ipython>=6.0->watermark) (0.6.3)\n",
      "Requirement already satisfied: traitlets>=5 in c:\\users\\tetouan\\appdata\\local\\programs\\python\\python38\\lib\\site-packages (from ipython>=6.0->watermark) (5.14.2)\n",
      "Requirement already satisfied: typing-extensions in c:\\users\\tetouan\\appdata\\local\\programs\\python\\python38\\lib\\site-packages (from ipython>=6.0->watermark) (4.10.0)\n",
      "Requirement already satisfied: colorama in c:\\users\\tetouan\\appdata\\local\\programs\\python\\python38\\lib\\site-packages (from ipython>=6.0->watermark) (0.4.4)\n",
      "Requirement already satisfied: parso<0.9.0,>=0.8.3 in c:\\users\\tetouan\\appdata\\local\\programs\\python\\python38\\lib\\site-packages (from jedi>=0.16->ipython>=6.0->watermark) (0.8.3)\n",
      "Requirement already satisfied: wcwidth in c:\\users\\tetouan\\appdata\\local\\programs\\python\\python38\\lib\\site-packages (from prompt-toolkit!=3.0.37,<3.1.0,>=3.0.30->ipython>=6.0->watermark) (0.2.13)\n",
      "Requirement already satisfied: executing>=1.2.0 in c:\\users\\tetouan\\appdata\\local\\programs\\python\\python38\\lib\\site-packages (from stack-data->ipython>=6.0->watermark) (2.0.1)\n",
      "Requirement already satisfied: asttokens>=2.1.0 in c:\\users\\tetouan\\appdata\\local\\programs\\python\\python38\\lib\\site-packages (from stack-data->ipython>=6.0->watermark) (2.4.1)\n",
      "Requirement already satisfied: pure-eval in c:\\users\\tetouan\\appdata\\local\\programs\\python\\python38\\lib\\site-packages (from stack-data->ipython>=6.0->watermark) (0.2.2)\n",
      "Requirement already satisfied: six>=1.12.0 in c:\\users\\tetouan\\appdata\\local\\programs\\python\\python38\\lib\\site-packages (from asttokens>=2.1.0->stack-data->ipython>=6.0->watermark) (1.16.0)\n",
      "Downloading watermark-2.4.3-py2.py3-none-any.whl (7.6 kB)\n",
      "Installing collected packages: watermark\n",
      "Successfully installed watermark-2.4.3\n",
      "Note: you may need to restart the kernel to use updated packages.\n"
     ]
    }
   ],
   "source": [
    "pip install watermark"
   ]
  },
  {
   "cell_type": "code",
   "execution_count": 16,
   "id": "0a5f2502-bb7a-4278-815f-b8c72ed2e0d9",
   "metadata": {},
   "outputs": [
    {
     "name": "stdout",
     "output_type": "stream",
     "text": [
      "Python implementation: CPython\n",
      "Python version       : 3.8.0\n",
      "IPython version      : 8.12.3\n",
      "\n",
      "wget        : 3.2\n",
      "numpy       : 1.24.4\n",
      "pandas      : 2.0.3\n",
      "matplotlib  : 3.7.5\n",
      "seaborn     : 0.13.2\n",
      "scikit-learn: 1.3.2\n",
      "\n",
      "Compiler    : MSC v.1916 64 bit (AMD64)\n",
      "OS          : Windows\n",
      "Release     : 10\n",
      "Machine     : AMD64\n",
      "Processor   : Intel64 Family 6 Model 69 Stepping 1, GenuineIntel\n",
      "CPU cores   : 4\n",
      "Architecture: 64bit\n",
      "\n"
     ]
    }
   ],
   "source": [
    "%load_ext watermark\n",
    "\n",
    "%watermark -v -m -p wget,numpy,pandas,matplotlib,seaborn,scikit-learn"
   ]
  }
 ],
 "metadata": {
  "kernelspec": {
   "display_name": "Python 3 (ipykernel)",
   "language": "python",
   "name": "python3"
  },
  "language_info": {
   "codemirror_mode": {
    "name": "ipython",
    "version": 3
   },
   "file_extension": ".py",
   "mimetype": "text/x-python",
   "name": "python",
   "nbconvert_exporter": "python",
   "pygments_lexer": "ipython3",
   "version": "3.8.0"
  }
 },
 "nbformat": 4,
 "nbformat_minor": 5
}
